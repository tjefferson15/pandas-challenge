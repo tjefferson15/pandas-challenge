{
 "metadata": {
  "language_info": {
   "codemirror_mode": {
    "name": "ipython",
    "version": 3
   },
   "file_extension": ".py",
   "mimetype": "text/x-python",
   "name": "python",
   "nbconvert_exporter": "python",
   "pygments_lexer": "ipython3",
   "version": "3.8.8"
  },
  "orig_nbformat": 2,
  "kernelspec": {
   "name": "python388jvsc74a57bd0e583b461f61147fce2a7fda068db1cc4d07694be33402b5d71d4ac29eb5c2647",
   "display_name": "Python 3.8.8 64-bit ('base': conda)"
  }
 },
 "nbformat": 4,
 "nbformat_minor": 2,
 "cells": [
  {
   "cell_type": "code",
   "execution_count": 13,
   "metadata": {},
   "outputs": [
    {
     "output_type": "execute_result",
     "data": {
      "text/plain": [
       "   Purchase ID             SN  Age Gender  Item ID  \\\n",
       "0            0        Lisim78   20   Male      108   \n",
       "1            1    Lisovynya38   40   Male      143   \n",
       "2            2     Ithergue48   24   Male       92   \n",
       "3            3  Chamassasya86   24   Male      100   \n",
       "4            4      Iskosia90   23   Male      131   \n",
       "\n",
       "                                   Item Name  Price  \n",
       "0  Extraction, Quickblade Of Trembling Hands   3.53  \n",
       "1                          Frenzied Scimitar   1.56  \n",
       "2                               Final Critic   4.88  \n",
       "3                                Blindscythe   3.27  \n",
       "4                                       Fury   1.44  "
      ],
      "text/html": "<div>\n<style scoped>\n    .dataframe tbody tr th:only-of-type {\n        vertical-align: middle;\n    }\n\n    .dataframe tbody tr th {\n        vertical-align: top;\n    }\n\n    .dataframe thead th {\n        text-align: right;\n    }\n</style>\n<table border=\"1\" class=\"dataframe\">\n  <thead>\n    <tr style=\"text-align: right;\">\n      <th></th>\n      <th>Purchase ID</th>\n      <th>SN</th>\n      <th>Age</th>\n      <th>Gender</th>\n      <th>Item ID</th>\n      <th>Item Name</th>\n      <th>Price</th>\n    </tr>\n  </thead>\n  <tbody>\n    <tr>\n      <th>0</th>\n      <td>0</td>\n      <td>Lisim78</td>\n      <td>20</td>\n      <td>Male</td>\n      <td>108</td>\n      <td>Extraction, Quickblade Of Trembling Hands</td>\n      <td>3.53</td>\n    </tr>\n    <tr>\n      <th>1</th>\n      <td>1</td>\n      <td>Lisovynya38</td>\n      <td>40</td>\n      <td>Male</td>\n      <td>143</td>\n      <td>Frenzied Scimitar</td>\n      <td>1.56</td>\n    </tr>\n    <tr>\n      <th>2</th>\n      <td>2</td>\n      <td>Ithergue48</td>\n      <td>24</td>\n      <td>Male</td>\n      <td>92</td>\n      <td>Final Critic</td>\n      <td>4.88</td>\n    </tr>\n    <tr>\n      <th>3</th>\n      <td>3</td>\n      <td>Chamassasya86</td>\n      <td>24</td>\n      <td>Male</td>\n      <td>100</td>\n      <td>Blindscythe</td>\n      <td>3.27</td>\n    </tr>\n    <tr>\n      <th>4</th>\n      <td>4</td>\n      <td>Iskosia90</td>\n      <td>23</td>\n      <td>Male</td>\n      <td>131</td>\n      <td>Fury</td>\n      <td>1.44</td>\n    </tr>\n  </tbody>\n</table>\n</div>"
     },
     "metadata": {},
     "execution_count": 13
    }
   ],
   "source": [
    "import pandas as pd \n",
    "\n",
    "file_to_load = \"/Users/tjeff/pandas-challenge/HeroesOfPymoli /pymoli.csv\" \n",
    "\n",
    "pymoli_df = pd.read_csv(file_to_load) \n",
    "pymoli_df.head() "
   ]
  },
  {
   "cell_type": "code",
   "execution_count": 14,
   "metadata": {},
   "outputs": [
    {
     "output_type": "execute_result",
     "data": {
      "text/plain": [
       "   Player Count\n",
       "0           576"
      ],
      "text/html": "<div>\n<style scoped>\n    .dataframe tbody tr th:only-of-type {\n        vertical-align: middle;\n    }\n\n    .dataframe tbody tr th {\n        vertical-align: top;\n    }\n\n    .dataframe thead th {\n        text-align: right;\n    }\n</style>\n<table border=\"1\" class=\"dataframe\">\n  <thead>\n    <tr style=\"text-align: right;\">\n      <th></th>\n      <th>Player Count</th>\n    </tr>\n  </thead>\n  <tbody>\n    <tr>\n      <th>0</th>\n      <td>576</td>\n    </tr>\n  </tbody>\n</table>\n</div>"
     },
     "metadata": {},
     "execution_count": 14
    }
   ],
   "source": [
    "player_count = pymoli_df[\"SN\"].nunique()\n",
    "player_count = pd.DataFrame ({\"Player Count\": [player_count]}) \n",
    "\n",
    "player_count"
   ]
  },
  {
   "cell_type": "code",
   "execution_count": 15,
   "metadata": {},
   "outputs": [],
   "source": [
    "number_of_items = pymoli_df['Item Name'].nunique()\n",
    "average_price = pymoli_df['Price'].mean()\n",
    "total_purchases = pymoli_df['Purchase ID'].count()\n",
    "total_revenue = average_price * total_purchases "
   ]
  },
  {
   "cell_type": "code",
   "execution_count": 16,
   "metadata": {},
   "outputs": [],
   "source": [
    "summary_df = pd.DataFrame({\n",
    "    \"Number of Items\": [number_of_items],\n",
    "    \"Average Price\": [average_price],\n",
    "    \"Total Purchases\": [total_purchases],\n",
    "    \"Total Revenue\":[total_revenue]\n",
    "    })"
   ]
  },
  {
   "cell_type": "code",
   "execution_count": 17,
   "metadata": {},
   "outputs": [
    {
     "output_type": "execute_result",
     "data": {
      "text/plain": [
       "   Number of Items  Average Price  Total Purchases  Total Revenue\n",
       "0              179       3.050987              780        2379.77"
      ],
      "text/html": "<div>\n<style scoped>\n    .dataframe tbody tr th:only-of-type {\n        vertical-align: middle;\n    }\n\n    .dataframe tbody tr th {\n        vertical-align: top;\n    }\n\n    .dataframe thead th {\n        text-align: right;\n    }\n</style>\n<table border=\"1\" class=\"dataframe\">\n  <thead>\n    <tr style=\"text-align: right;\">\n      <th></th>\n      <th>Number of Items</th>\n      <th>Average Price</th>\n      <th>Total Purchases</th>\n      <th>Total Revenue</th>\n    </tr>\n  </thead>\n  <tbody>\n    <tr>\n      <th>0</th>\n      <td>179</td>\n      <td>3.050987</td>\n      <td>780</td>\n      <td>2379.77</td>\n    </tr>\n  </tbody>\n</table>\n</div>"
     },
     "metadata": {},
     "execution_count": 17
    }
   ],
   "source": [
    "summary_df"
   ]
  },
  {
   "cell_type": "code",
   "execution_count": 18,
   "metadata": {},
   "outputs": [
    {
     "output_type": "stream",
     "name": "stderr",
     "text": [
      "<ipython-input-18-18a418da5501>:8: UserWarning: Pandas doesn't allow columns to be created via a new attribute name - see https://pandas.pydata.org/pandas-docs/stable/indexing.html#attribute-access\n  gender_count_df.colums= ['Percentage of Players' * 100, 'Total Count']\n"
     ]
    },
    {
     "output_type": "execute_result",
     "data": {
      "text/plain": [
       "                       Total Count  Percentage of Players\n",
       "Male                           652               0.001072\n",
       "Female                         113               0.000186\n",
       "Other / Non-Disclosed           15               0.000025"
      ],
      "text/html": "<div>\n<style scoped>\n    .dataframe tbody tr th:only-of-type {\n        vertical-align: middle;\n    }\n\n    .dataframe tbody tr th {\n        vertical-align: top;\n    }\n\n    .dataframe thead th {\n        text-align: right;\n    }\n</style>\n<table border=\"1\" class=\"dataframe\">\n  <thead>\n    <tr style=\"text-align: right;\">\n      <th></th>\n      <th>Total Count</th>\n      <th>Percentage of Players</th>\n    </tr>\n  </thead>\n  <tbody>\n    <tr>\n      <th>Male</th>\n      <td>652</td>\n      <td>0.001072</td>\n    </tr>\n    <tr>\n      <th>Female</th>\n      <td>113</td>\n      <td>0.000186</td>\n    </tr>\n    <tr>\n      <th>Other / Non-Disclosed</th>\n      <td>15</td>\n      <td>0.000025</td>\n    </tr>\n  </tbody>\n</table>\n</div>"
     },
     "metadata": {},
     "execution_count": 18
    }
   ],
   "source": [
    "gender_count= pymoli_df ['Gender'].value_counts(0)\n",
    "gender_percentage= (pymoli_df['Gender']).value_counts(1)/(pymoli_df['SN'].count())\n",
    "\n",
    "gender_count_df=pd.DataFrame({\"Total Count\": gender_count})\n",
    "gender_percent_df = round(pd.DataFrame(gender_percentage) * 100, 2)\n",
    "gender_count_df['Percentage of Players'] = gender_percentage\n",
    "\n",
    "gender_count_df.colums= ['Percentage of Players' * 100, 'Total Count']\n",
    "gender_count_df"
   ]
  },
  {
   "cell_type": "code",
   "execution_count": 19,
   "metadata": {},
   "outputs": [
    {
     "output_type": "execute_result",
     "data": {
      "text/plain": [
       "                       Purchase Count  Average Purchase Price  \\\n",
       "Female                          113.0                    3.20   \n",
       "Male                            652.0                    3.02   \n",
       "Other / Non-Disclosed            15.0                    3.35   \n",
       "\n",
       "                       Total Purchase Value  Avg Total Purchase per Person  \n",
       "Female                               361.94                           3.20  \n",
       "Male                                1967.64                           3.02  \n",
       "Other / Non-Disclosed                 50.19                           3.35  "
      ],
      "text/html": "<div>\n<style scoped>\n    .dataframe tbody tr th:only-of-type {\n        vertical-align: middle;\n    }\n\n    .dataframe tbody tr th {\n        vertical-align: top;\n    }\n\n    .dataframe thead th {\n        text-align: right;\n    }\n</style>\n<table border=\"1\" class=\"dataframe\">\n  <thead>\n    <tr style=\"text-align: right;\">\n      <th></th>\n      <th>Purchase Count</th>\n      <th>Average Purchase Price</th>\n      <th>Total Purchase Value</th>\n      <th>Avg Total Purchase per Person</th>\n    </tr>\n  </thead>\n  <tbody>\n    <tr>\n      <th>Female</th>\n      <td>113.0</td>\n      <td>3.20</td>\n      <td>361.94</td>\n      <td>3.20</td>\n    </tr>\n    <tr>\n      <th>Male</th>\n      <td>652.0</td>\n      <td>3.02</td>\n      <td>1967.64</td>\n      <td>3.02</td>\n    </tr>\n    <tr>\n      <th>Other / Non-Disclosed</th>\n      <td>15.0</td>\n      <td>3.35</td>\n      <td>50.19</td>\n      <td>3.35</td>\n    </tr>\n  </tbody>\n</table>\n</div>"
     },
     "metadata": {},
     "execution_count": 19
    }
   ],
   "source": [
    "df_gender_2 = pymoli_df.groupby('Gender')\n",
    "\n",
    "purchase_count = round(df_gender_2['Purchase ID'].count(), 0)\n",
    "avg_purchase_price = round(df_gender_2['Price'].mean(), 2)\n",
    "total_purchase_value = round(df_gender_2['Price'].sum(), 2)\n",
    "purchase_value_per_gender = round(total_purchase_value / gender_count, 2)\n",
    "\n",
    "summary_dataframe2 = pd.DataFrame([purchase_count, avg_purchase_price, total_purchase_value, purchase_value_per_gender])\n",
    "summary2 = summary_dataframe2.T\n",
    "summary2.columns = ['Purchase Count', 'Average Purchase Price', 'Total Purchase Value', 'Avg Total Purchase per Person']\n",
    "summary2"
   ]
  },
  {
   "cell_type": "code",
   "execution_count": 28,
   "metadata": {},
   "outputs": [
    {
     "output_type": "execute_result",
     "data": {
      "text/plain": [
       "             Total Count  Percentage of Players\n",
       "Total Count                                    \n",
       "<10                 17.0                   2.95\n",
       "10-14               22.0                   3.82\n",
       "15-19              107.0                  18.58\n",
       "20-24              258.0                  44.79\n",
       "25-29               77.0                  13.37"
      ],
      "text/html": "<div>\n<style scoped>\n    .dataframe tbody tr th:only-of-type {\n        vertical-align: middle;\n    }\n\n    .dataframe tbody tr th {\n        vertical-align: top;\n    }\n\n    .dataframe thead th {\n        text-align: right;\n    }\n</style>\n<table border=\"1\" class=\"dataframe\">\n  <thead>\n    <tr style=\"text-align: right;\">\n      <th></th>\n      <th>Total Count</th>\n      <th>Percentage of Players</th>\n    </tr>\n    <tr>\n      <th>Total Count</th>\n      <th></th>\n      <th></th>\n    </tr>\n  </thead>\n  <tbody>\n    <tr>\n      <th>&lt;10</th>\n      <td>17.0</td>\n      <td>2.95</td>\n    </tr>\n    <tr>\n      <th>10-14</th>\n      <td>22.0</td>\n      <td>3.82</td>\n    </tr>\n    <tr>\n      <th>15-19</th>\n      <td>107.0</td>\n      <td>18.58</td>\n    </tr>\n    <tr>\n      <th>20-24</th>\n      <td>258.0</td>\n      <td>44.79</td>\n    </tr>\n    <tr>\n      <th>25-29</th>\n      <td>77.0</td>\n      <td>13.37</td>\n    </tr>\n  </tbody>\n</table>\n</div>"
     },
     "metadata": {},
     "execution_count": 28
    }
   ],
   "source": [
    "bins = [0, 9, 14, 19, 24, 29, 34, 39, 150]\n",
    "bin_labels = ['<10', '10-14', '15-19', '20-24', '25-29', '30-34', '35-39', '40+']\n",
    "\n",
    "pymoli_df[\"Total Count\"] = pd.cut(pymoli_df[\"Age\"], bins, labels=bin_labels)\n",
    "pymoli_df_age1 = pymoli_df[['Total Count','SN']].drop_duplicates(subset = 'SN')\n",
    "\n",
    "age_demographics_summary = pymoli_df_age1.groupby(\"Total Count\").count()\n",
    "age_counts = age_demographics_summary['SN']\n",
    "age_demographics_percentages = round(age_counts / 576 * 100, 2)\n",
    "age_demographics_percentages\n",
    "\n",
    "summary_dataframe3 = pd.DataFrame([age_counts, age_demographics_percentages])\n",
    "\n",
    "summary_data = summary_dataframe3.T\n",
    "\n",
    "summary_data.columns = ['Total Count', 'Percentage of Players']\n",
    "\n",
    "summary_data.head()"
   ]
  },
  {
   "cell_type": "code",
   "execution_count": 29,
   "metadata": {},
   "outputs": [
    {
     "output_type": "execute_result",
     "data": {
      "text/plain": [
       "             Purchase Count  Average Purchase Price  Total Purchase Value  \\\n",
       "Total Count                                                                 \n",
       "<10                    23.0                    3.35                 77.13   \n",
       "10-14                  28.0                    2.96                 82.78   \n",
       "15-19                 136.0                    3.04                412.89   \n",
       "20-24                 365.0                    3.05               1114.06   \n",
       "25-29                 101.0                    2.90                293.00   \n",
       "\n",
       "             Avg Total Purchase per Person  \n",
       "Total Count                                 \n",
       "<10                                   4.54  \n",
       "10-14                                 3.76  \n",
       "15-19                                 3.86  \n",
       "20-24                                 4.32  \n",
       "25-29                                 3.81  "
      ],
      "text/html": "<div>\n<style scoped>\n    .dataframe tbody tr th:only-of-type {\n        vertical-align: middle;\n    }\n\n    .dataframe tbody tr th {\n        vertical-align: top;\n    }\n\n    .dataframe thead th {\n        text-align: right;\n    }\n</style>\n<table border=\"1\" class=\"dataframe\">\n  <thead>\n    <tr style=\"text-align: right;\">\n      <th></th>\n      <th>Purchase Count</th>\n      <th>Average Purchase Price</th>\n      <th>Total Purchase Value</th>\n      <th>Avg Total Purchase per Person</th>\n    </tr>\n    <tr>\n      <th>Total Count</th>\n      <th></th>\n      <th></th>\n      <th></th>\n      <th></th>\n    </tr>\n  </thead>\n  <tbody>\n    <tr>\n      <th>&lt;10</th>\n      <td>23.0</td>\n      <td>3.35</td>\n      <td>77.13</td>\n      <td>4.54</td>\n    </tr>\n    <tr>\n      <th>10-14</th>\n      <td>28.0</td>\n      <td>2.96</td>\n      <td>82.78</td>\n      <td>3.76</td>\n    </tr>\n    <tr>\n      <th>15-19</th>\n      <td>136.0</td>\n      <td>3.04</td>\n      <td>412.89</td>\n      <td>3.86</td>\n    </tr>\n    <tr>\n      <th>20-24</th>\n      <td>365.0</td>\n      <td>3.05</td>\n      <td>1114.06</td>\n      <td>4.32</td>\n    </tr>\n    <tr>\n      <th>25-29</th>\n      <td>101.0</td>\n      <td>2.90</td>\n      <td>293.00</td>\n      <td>3.81</td>\n    </tr>\n  </tbody>\n</table>\n</div>"
     },
     "metadata": {},
     "execution_count": 29
    }
   ],
   "source": [
    "pymoli_df['Age'].max()\n",
    "\n",
    "bins = [0, 9, 14, 19, 24, 29, 34, 39, 150]\n",
    "bin_labels = ['<10', '10-14', '15-19', '20-24', '25-29', '30-34', '35-39', '40+']\n",
    "\n",
    "pymoli_df[\"Total Count\"] = pd.cut(pymoli_df[\"Age\"], bins, labels=bin_labels)\n",
    "less_rows = pymoli_df[['Total Count','SN', 'Price']]\n",
    "\n",
    "less_rows_grouped = less_rows.groupby('Total Count')\n",
    "purchase_counts = less_rows_grouped['Price'].count()\n",
    "average_prices = round(less_rows_grouped['Price'].mean(),2)\n",
    "total_spent = round(less_rows_grouped['Price'].sum(), 2)\n",
    "spending_per_person = round(total_spent/age_counts,2)\n",
    "\n",
    "\n",
    "summary4 = pd.DataFrame([purchase_counts, average_prices, total_spent, spending_per_person])\n",
    "summary4b = summary4.T\n",
    "summary4b.columns = ['Purchase Count', 'Average Purchase Price', 'Total Purchase Value', 'Avg Total Purchase per Person']\n",
    "summary4b.head()"
   ]
  },
  {
   "cell_type": "code",
   "execution_count": 48,
   "metadata": {},
   "outputs": [
    {
     "output_type": "execute_result",
     "data": {
      "text/plain": [
       "              SN  Purchase Count  Average Purchase Price  Total Purchase Value\n",
       "571  Iskadarya95               3                    4.37                 13.10\n",
       "572       Iral74               4                    3.40                 13.62\n",
       "573   Chamjask73               3                    4.61                 13.83\n",
       "574  Idastidru52               4                    3.86                 15.45\n",
       "575    Lisosia93               5                    3.79                 18.96"
      ],
      "text/html": "<div>\n<style scoped>\n    .dataframe tbody tr th:only-of-type {\n        vertical-align: middle;\n    }\n\n    .dataframe tbody tr th {\n        vertical-align: top;\n    }\n\n    .dataframe thead th {\n        text-align: right;\n    }\n</style>\n<table border=\"1\" class=\"dataframe\">\n  <thead>\n    <tr style=\"text-align: right;\">\n      <th></th>\n      <th>SN</th>\n      <th>Purchase Count</th>\n      <th>Average Purchase Price</th>\n      <th>Total Purchase Value</th>\n    </tr>\n  </thead>\n  <tbody>\n    <tr>\n      <th>571</th>\n      <td>Iskadarya95</td>\n      <td>3</td>\n      <td>4.37</td>\n      <td>13.10</td>\n    </tr>\n    <tr>\n      <th>572</th>\n      <td>Iral74</td>\n      <td>4</td>\n      <td>3.40</td>\n      <td>13.62</td>\n    </tr>\n    <tr>\n      <th>573</th>\n      <td>Chamjask73</td>\n      <td>3</td>\n      <td>4.61</td>\n      <td>13.83</td>\n    </tr>\n    <tr>\n      <th>574</th>\n      <td>Idastidru52</td>\n      <td>4</td>\n      <td>3.86</td>\n      <td>15.45</td>\n    </tr>\n    <tr>\n      <th>575</th>\n      <td>Lisosia93</td>\n      <td>5</td>\n      <td>3.79</td>\n      <td>18.96</td>\n    </tr>\n  </tbody>\n</table>\n</div>"
     },
     "metadata": {},
     "execution_count": 48
    }
   ],
   "source": [
    "user_purchases_df = pymoli_df.groupby('SN')\n",
    "\n",
    "purchases_by_user = user_purchases_df.sum()['Price']\n",
    "average_purchase_by_user=user_purchases_df['Price'].mean()\n",
    "total_purchases_by_user=user_purchases_df['Price'].sum() \n",
    "\n",
    "top_spenders = pd.DataFrame({\"Purchase Count\": purchases_by_user,\n",
    "                             \"Average Purchase Price\": average_purchase_by_user,\n",
    "                             \"Total Purchase Value\":purchases_by_user})\n",
    "\n",
    "\n",
    "user_purchase_summary_df.columns = ['Purchase Count', 'Average Purchase Price', 'Total Purchase Value']\n",
    "\n",
    "user_purchase_summary_df.sort_values(by=['Total Purchase Value']).reset_index().tail ()"
   ]
  },
  {
   "cell_type": "code",
   "execution_count": null,
   "metadata": {},
   "outputs": [],
   "source": []
  }
 ]
}